{
 "cells": [
  {
   "cell_type": "markdown",
   "source": [
    "# Beispiel Code für ML"
   ],
   "metadata": {
    "collapsed": false
   }
  },
  {
   "cell_type": "code",
   "execution_count": 1,
   "outputs": [],
   "source": [
    "#Common Imports\n",
    "import numpy as np\n",
    "import matplotlib.pyplot as plt\n",
    "import pandas as pd"
   ],
   "metadata": {
    "collapsed": false
   }
  },
  {
   "cell_type": "markdown",
   "source": [
    "## Entscheidungsbäume"
   ],
   "metadata": {
    "collapsed": false
   }
  },
  {
   "cell_type": "code",
   "execution_count": null,
   "outputs": [],
   "source": [
    "#Zufällige Datenpunkte Generieren\n",
    "np.random.seed(42)\n",
    "\n",
    "num_points = 200\n",
    "\n",
    "mean1 = np.array([5, 5])\n",
    "cov1 = np.array([\n",
    "    [2, 4],\n",
    "    [4, 2]\n",
    "])\n",
    "points = np.random.multivariate_normal(mean1, cov1, num_points)\n",
    "labels = np.where((points[:, 0] >= 5.0) & (points[:, 1] >= 5.0), 1, 0)\n",
    "noise = np.random.choice([0, 1], size=len(labels), p=[0.8, 0.2])\n",
    "labels = np.where(noise == 1, 1 - labels, labels)\n"
   ],
   "metadata": {
    "collapsed": false
   }
  },
  {
   "cell_type": "markdown",
   "source": [
    "Nachdem wir das Datensatz (points, labels) haben, müssen wir es in trainings und validation Teile splitten und dann das Modell trainieren:\n"
   ],
   "metadata": {
    "collapsed": false
   }
  },
  {
   "cell_type": "code",
   "execution_count": null,
   "outputs": [],
   "source": [
    "#Imports:\n",
    "from sklearn.model_selection import train_test_split, GridSearchCV\n",
    "from sklearn.tree import DecisionTreeClassifier, plot_tree"
   ],
   "metadata": {
    "collapsed": false
   }
  },
  {
   "cell_type": "code",
   "execution_count": null,
   "outputs": [],
   "source": [
    "#Split:\n",
    "train_points, val_points, train_labels, val_labels = train_test_split(\n",
    "    points, labels, test_size=0.5, random_state=42\n",
    ")"
   ],
   "metadata": {
    "collapsed": false
   }
  },
  {
   "cell_type": "code",
   "execution_count": null,
   "outputs": [],
   "source": [
    "#Training:\n",
    "# Um die Tiefe explizit anzugeben: clf = DecisionTreeClassifier(max_depth=6)\n",
    "clf = DecisionTreeClassifier()\n",
    "clf.fit(train_points, train_labels)\n"
   ],
   "metadata": {
    "collapsed": false
   }
  },
  {
   "cell_type": "code",
   "execution_count": 2,
   "outputs": [
    {
     "ename": "NameError",
     "evalue": "name 'clf' is not defined",
     "output_type": "error",
     "traceback": [
      "\u001B[0;31m---------------------------------------------------------------------------\u001B[0m",
      "\u001B[0;31mNameError\u001B[0m                                 Traceback (most recent call last)",
      "Cell \u001B[0;32mIn[2], line 2\u001B[0m\n\u001B[1;32m      1\u001B[0m \u001B[38;5;66;03m#Validation:\u001B[39;00m\n\u001B[0;32m----> 2\u001B[0m accuracy \u001B[38;5;241m=\u001B[39m \u001B[43mclf\u001B[49m\u001B[38;5;241m.\u001B[39mscore(val_points, val_labels)\n\u001B[1;32m      3\u001B[0m \u001B[38;5;28mprint\u001B[39m(\u001B[38;5;124m\"\u001B[39m\u001B[38;5;124mValidation Accuracy:\u001B[39m\u001B[38;5;124m\"\u001B[39m, accuracy)\n\u001B[1;32m      4\u001B[0m \u001B[38;5;28mprint\u001B[39m(\u001B[38;5;124m\"\u001B[39m\u001B[38;5;124mBest Tree Height:\u001B[39m\u001B[38;5;124m\"\u001B[39m, clf\u001B[38;5;241m.\u001B[39mget_depth())\n",
      "\u001B[0;31mNameError\u001B[0m: name 'clf' is not defined"
     ]
    }
   ],
   "source": [
    "#Validation:\n",
    "accuracy = clf.score(val_points, val_labels)\n",
    "print(\"Validation Accuracy:\", accuracy)\n",
    "print(\"Best Tree Height:\", clf.get_depth())"
   ],
   "metadata": {
    "collapsed": false
   }
  },
  {
   "cell_type": "code",
   "execution_count": null,
   "outputs": [],
   "source": [
    "#Stelle die Vorhersagen grafisch dar.\n",
    "plt.figure(figsize=(8, 8))\n",
    "plt.scatter(points[:, 0], points[:, 1], c=labels, cmap=\"coolwarm\", alpha=0.8)\n",
    "plt.xlabel(\"size\")\n",
    "plt.ylabel(\"brightness\")\n",
    "plt.title(\"Decision tree trained without cross-validation.\")\n",
    "plt.xlim([0, 10])\n",
    "plt.ylim([0, 10])\n",
    "\n",
    "# Create a meshgrid to plot the decision boundary\n",
    "h = 0.01\n",
    "x_min, x_max = -0.1, 10.1\n",
    "y_min, y_max = -0.1, 10.1\n",
    "xx, yy = np.meshgrid(np.arange(x_min, x_max, h), np.arange(y_min, y_max, h))\n",
    "\n",
    "# Predict the labels for each point in the meshgrid\n",
    "Z = clf.predict(np.c_[xx.ravel(), yy.ravel()])\n",
    "Z = Z.reshape(xx.shape)\n",
    "\n",
    "# Plot the decision boundary\n",
    "plt.contourf(xx, yy, Z, cmap=\"coolwarm\", alpha=0.3)\n",
    "\n",
    "plt.figure(figsize=(8, 8))\n",
    "plt.scatter(points[:, 0], points[:, 1], c=labels, cmap=\"coolwarm\", alpha=0.8)\n",
    "plt.xlabel(\"size\")\n",
    "plt.ylabel(\"brightness\")\n",
    "plt.title(\"Decision tree trained with cross-validation.\")\n",
    "plt.xlim([0, 10])\n",
    "plt.ylim([0, 10])"
   ],
   "metadata": {
    "collapsed": false
   }
  },
  {
   "cell_type": "code",
   "execution_count": null,
   "outputs": [],
   "source": [
    "#Grafische Darstellung von dem Baum selber:\n",
    "plt.figure(figsize=(10, 8))\n",
    "plot_tree(clf, feature_names=[\"x\", \"y\"], class_names=[\"0\", \"1\"], filled=True)\n"
   ],
   "metadata": {
    "collapsed": false
   }
  },
  {
   "cell_type": "markdown",
   "source": [
    "### Cross-Validation"
   ],
   "metadata": {
    "collapsed": false
   }
  },
  {
   "cell_type": "code",
   "execution_count": null,
   "outputs": [],
   "source": [
    "# Define the parameter grid for GridSearchCV\n",
    "# max_depth ist ein Parameter von dem DecisionTreeClassifier() Objekt. Dies ist die Eigenschaft, die wir Grid Search Cross Validation optimieren möchten.\n",
    "param_grid = {\"max_depth\": [2, 3, 4, 5, 6, 7, 8, 9, 10]}\n",
    "\n",
    "# Create a decision tree classifier\n",
    "clf = DecisionTreeClassifier()\n",
    "\n",
    "# Perform grid search with cross-validation\n",
    "grid_search = GridSearchCV(clf, param_grid=param_grid, cv=5)\n",
    "grid_search.fit(train_points, train_labels)\n",
    "\n",
    "# Get the best estimator (decision tree classifier)\n",
    "best_clf = grid_search.best_estimator_\n",
    "\n",
    "# Evaluate the best classifier on the validation set\n",
    "accuracy = best_clf.score(val_points, val_labels)\n",
    "print(\"Validation Accuracy:\", accuracy)\n",
    "print(\"Best Tree Height:\", best_clf.get_depth())"
   ],
   "metadata": {
    "collapsed": false
   }
  },
  {
   "cell_type": "markdown",
   "source": [
    "## Lineare Regression"
   ],
   "metadata": {
    "collapsed": false
   }
  },
  {
   "cell_type": "code",
   "execution_count": null,
   "outputs": [],
   "source": [
    "df = pd.read_csv(\"all_superconductors.csv\")\n",
    "\n",
    "X = df.drop(['critical_temp'], axis=1) # Nehme alle Spalten ausser critical_temp, was der Class Label ist\n",
    "y = df['critical_temp'] # nehme die class label"
   ],
   "metadata": {
    "collapsed": false
   }
  },
  {
   "cell_type": "markdown",
   "source": [
    "Der Datensatz ist jetzt (X,y). Wir gehen wieder die gleichen Schritte durch:"
   ],
   "metadata": {
    "collapsed": false
   }
  },
  {
   "cell_type": "code",
   "execution_count": null,
   "outputs": [],
   "source": [
    "# Imports:\n",
    "from sklearn.model_selection import train_test_split\n",
    "from sklearn.linear_model import LinearRegression\n",
    "from sklearn.metrics import mean_squared_error, r2_score\n"
   ],
   "metadata": {
    "collapsed": false
   }
  },
  {
   "cell_type": "code",
   "execution_count": null,
   "outputs": [],
   "source": [
    "#Split:\n",
    "X_train, X_test, y_train, y_test = train_test_split(X, y, test_size=0.2, random_state=42)\n"
   ],
   "metadata": {
    "collapsed": false
   }
  },
  {
   "cell_type": "code",
   "execution_count": null,
   "outputs": [],
   "source": [
    "#Training:\n",
    "linreg = LinearRegression()\n",
    "linreg.fit(X_train, y_train)\n"
   ],
   "metadata": {
    "collapsed": false
   }
  },
  {
   "cell_type": "code",
   "execution_count": null,
   "outputs": [],
   "source": [
    "#Validation:\n",
    "y_pred = linreg.predict(X_test)\n",
    "mse = mean_squared_error(y_test, y_pred)\n",
    "r2 = r2_score(y_test, y_pred)\n",
    "print(\"R2 on test data: {:.3f}\".format(r2))"
   ],
   "metadata": {
    "collapsed": false
   }
  },
  {
   "cell_type": "markdown",
   "source": [
    "## Logistische Regression"
   ],
   "metadata": {
    "collapsed": false
   }
  },
  {
   "cell_type": "markdown",
   "source": [
    "LogReg funktioniert genauso wie die LinReg Beispiel, deshalb ist es hier nicht tiefer erklärt."
   ],
   "metadata": {
    "collapsed": false
   }
  },
  {
   "cell_type": "code",
   "execution_count": null,
   "outputs": [],
   "source": [
    "\n",
    "df = pd.read_csv(\"magic04.csv\")\n",
    "\n",
    "X = df.drop(['class'], axis=1)\n",
    "y = df['class']\n",
    "\n",
    "#Split\n",
    "from sklearn.model_selection import train_test_split\n",
    "\n",
    "X_train, X_test, y_train, y_test = train_test_split(X, y, test_size=0.2)\n",
    "\n",
    "#Trainig:\n",
    "from sklearn.linear_model import LogisticRegression\n",
    "\n",
    "# For the constructor, it is sometimes good to specify\n",
    "# the number of iterations used by the training\n",
    "# algorithm.\n",
    "logreg = LogisticRegression(max_iter=1000)\n",
    "logreg.fit(X_train, y_train)\n",
    "\n",
    "#Validation:\n",
    "from sklearn.metrics import accuracy_score\n",
    "\n",
    "y_pred = logreg.predict(X_test)\n",
    "accuracy = accuracy_score(y_test, y_pred)\n",
    "print(\"Accuracy of estimator on test data: {:.3f}\".format(accuracy))"
   ],
   "metadata": {
    "collapsed": false
   }
  }
 ],
 "metadata": {
  "kernelspec": {
   "display_name": "Python 3",
   "language": "python",
   "name": "python3"
  },
  "language_info": {
   "codemirror_mode": {
    "name": "ipython",
    "version": 2
   },
   "file_extension": ".py",
   "mimetype": "text/x-python",
   "name": "python",
   "nbconvert_exporter": "python",
   "pygments_lexer": "ipython2",
   "version": "2.7.6"
  }
 },
 "nbformat": 4,
 "nbformat_minor": 0
}
