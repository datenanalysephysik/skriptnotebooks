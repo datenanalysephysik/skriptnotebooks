{
 "cells": [
  {
   "attachments": {},
   "cell_type": "markdown",
   "metadata": {},
   "source": [
    "# Notebook 1 - Einführung in Python"
   ]
  },
  {
   "attachments": {},
   "cell_type": "markdown",
   "metadata": {},
   "source": [
    "### Jupyter Notebooks"
   ]
  },
  {
   "attachments": {},
   "cell_type": "markdown",
   "metadata": {},
   "source": [
    "Wie Sie sehen wird der Python-Code in Jupyter-Notebooks in einzelne Zellen gegliedert, die einzeln und unabhängig voneinander ausgeführt (interpretiert) werden können. Das macht insbesondere die Entwicklung von Code sehr einfach und intuitiv. Aber Sie müssen beachten, dass die Zellen nicht notwendigerweise in aufeinanderfolgender Reihenfolge ausgeführt worden sind. Es gibt zwei verschiedene Typen von Zellen, sogenannte Markdown und Python-Code Zelllen. "
   ]
  },
  {
   "attachments": {},
   "cell_type": "markdown",
   "metadata": {},
   "source": [
    "Markdown Text, <b>Fett</b>, <i>Kursiv</i>, ... Siehe https://en.wikipedia.org/wiki/Markdown"
   ]
  },
  {
   "attachments": {},
   "cell_type": "markdown",
   "metadata": {},
   "source": [
    "Latex Umgebung: $f(x) = a x^2 + b x + c$"
   ]
  },
  {
   "cell_type": "code",
   "execution_count": 33,
   "metadata": {},
   "outputs": [
    {
     "data": {
      "text/plain": [
       "8"
      ]
     },
     "execution_count": 33,
     "metadata": {},
     "output_type": "execute_result"
    }
   ],
   "source": [
    "# Ausführen von einfachen Berechnungen bzw Auswerten von mathematischen Ausdrücken \n",
    "5+3"
   ]
  },
  {
   "attachments": {},
   "cell_type": "markdown",
   "metadata": {},
   "source": [
    "### Bibliotheken"
   ]
  },
  {
   "attachments": {},
   "cell_type": "markdown",
   "metadata": {},
   "source": [
    "Zunächst laden wir alle Bibliotheken, die wir zustäzlich zur Standardbibliothek verwenden möchten."
   ]
  },
  {
   "cell_type": "code",
   "execution_count": 1,
   "metadata": {},
   "outputs": [],
   "source": [
    "import numpy as np\n",
    "import matplotlib.pyplot as plt\n",
    "import os"
   ]
  },
  {
   "attachments": {},
   "cell_type": "markdown",
   "metadata": {},
   "source": [
    "Nun können wir Numpy Funktionen mit dem Präfix np. ausführen"
   ]
  },
  {
   "cell_type": "code",
   "execution_count": 2,
   "metadata": {},
   "outputs": [
    {
     "data": {
      "text/plain": [
       "3.141592653589793"
      ]
     },
     "execution_count": 2,
     "metadata": {},
     "output_type": "execute_result"
    }
   ],
   "source": [
    "np.pi"
   ]
  },
  {
   "attachments": {},
   "cell_type": "markdown",
   "metadata": {},
   "source": [
    "### Datentypen und Variablen"
   ]
  },
  {
   "attachments": {},
   "cell_type": "markdown",
   "metadata": {},
   "source": [
    "Wir können Variablen einfach durch Zuweisung erzeugen und müssen nicht, wie in vielen anderen Programmiersprachen, die Variable zunächst mit zugehörigen Datentyp initialisieren. Im unten stehenden Beispiel weisen wir der Variable a zunächst den Wert 4 zu, der Objekt-Typ ist somit Int. Wir können den Datentyp dynamisch aktualisieren und stattdessen einen Float zuweisen. "
   ]
  },
  {
   "cell_type": "code",
   "execution_count": 3,
   "metadata": {},
   "outputs": [
    {
     "name": "stdout",
     "output_type": "stream",
     "text": [
      "<class 'int'>\n",
      "5\n",
      "A = 5\n"
     ]
    }
   ],
   "source": [
    "A = 5\n",
    "print(type(A))\n",
    "print(A)\n",
    "print('A = {:d}'.format(A)) "
   ]
  },
  {
   "cell_type": "code",
   "execution_count": 4,
   "metadata": {},
   "outputs": [
    {
     "name": "stdout",
     "output_type": "stream",
     "text": [
      "<class 'float'>\n",
      "5.0\n",
      "A = 5.000000\n",
      "A = 5.0\n"
     ]
    }
   ],
   "source": [
    "A = 5.0\n",
    "print(type(A))\n",
    "print(A)\n",
    "print('A = {:f}'.format(A))\n",
    "print('A = {:0.1f}'.format(A)) "
   ]
  },
  {
   "attachments": {},
   "cell_type": "markdown",
   "metadata": {},
   "source": [
    "<b>Achtung:</b> Variablen sind 'Global', das heisst sie sind nach ihrer Definition in allen Zellen verfügbar. Das heisst die Reihenfolge der Zellausführung ist wichtig. Das ist klausurrelevant!"
   ]
  },
  {
   "cell_type": "code",
   "execution_count": 5,
   "metadata": {},
   "outputs": [],
   "source": [
    "A = 1"
   ]
  },
  {
   "cell_type": "code",
   "execution_count": 6,
   "metadata": {},
   "outputs": [],
   "source": [
    "A = A+1"
   ]
  },
  {
   "cell_type": "code",
   "execution_count": 7,
   "metadata": {},
   "outputs": [
    {
     "name": "stdout",
     "output_type": "stream",
     "text": [
      "2\n"
     ]
    }
   ],
   "source": [
    "print(A)"
   ]
  },
  {
   "attachments": {},
   "cell_type": "markdown",
   "metadata": {},
   "source": [
    "Eine wichtige Art von Datentyp, den Sie vor allem in dieser Vorlesung häufig verwenden werden, sind Numpy-Arrays.  Diese können mit dem Befehl np.array erzeugt werden:\n"
   ]
  },
  {
   "cell_type": "code",
   "execution_count": 8,
   "metadata": {},
   "outputs": [
    {
     "name": "stdout",
     "output_type": "stream",
     "text": [
      "(2, 4)\n"
     ]
    }
   ],
   "source": [
    "a = np.array([1, 2, 3, 4]) # ein-dimensionaler Array\n",
    "b = np.array([[1, 2, 3, 4], [5, 6, 7, 8]]) # zwei-dimensionaler Array\n",
    "print(b.shape) # shape des arrays kann ausgelesen werden"
   ]
  },
  {
   "attachments": {},
   "cell_type": "markdown",
   "metadata": {},
   "source": [
    "Wir können einzelne Arrayeinträge indizieren. <b>Achtung:</b> In Python werden Arrays beginnend bei 0 indiziert!"
   ]
  },
  {
   "cell_type": "code",
   "execution_count": 9,
   "metadata": {},
   "outputs": [
    {
     "name": "stdout",
     "output_type": "stream",
     "text": [
      "5\n",
      "7\n",
      "[5 6]\n",
      "[5 6 7 8]\n"
     ]
    }
   ],
   "source": [
    "print(b[1,0]) \n",
    "print(b[-1,-2]) # relative indizierung \n",
    "print(b[1,0:2]) # Indizieren von Subarrays\n",
    "print(b[1,0:]) # Indizieren von Subarrays"
   ]
  },
  {
   "attachments": {},
   "cell_type": "markdown",
   "metadata": {},
   "source": [
    "Wir können auch einzelne Einträge des Array ändern"
   ]
  },
  {
   "cell_type": "code",
   "execution_count": 10,
   "metadata": {},
   "outputs": [
    {
     "name": "stdout",
     "output_type": "stream",
     "text": [
      "[1 7 3 4]\n"
     ]
    }
   ],
   "source": [
    "a[1] = 7\n",
    "print(a)"
   ]
  },
  {
   "attachments": {},
   "cell_type": "markdown",
   "metadata": {},
   "source": [
    "Einfache Array-Operationen"
   ]
  },
  {
   "cell_type": "code",
   "execution_count": 11,
   "metadata": {},
   "outputs": [
    {
     "name": "stdout",
     "output_type": "stream",
     "text": [
      "[2 8 4 5]\n",
      "[ 2 14  6  8]\n",
      "[ 3 15  7  9]\n"
     ]
    }
   ],
   "source": [
    "b = a + 1\n",
    "c = a * 2\n",
    "d = a + b\n",
    "\n",
    "print(b)\n",
    "print(c)\n",
    "print(d)"
   ]
  },
  {
   "attachments": {},
   "cell_type": "markdown",
   "metadata": {},
   "source": [
    "Spezielle Arrays"
   ]
  },
  {
   "cell_type": "code",
   "execution_count": 12,
   "metadata": {},
   "outputs": [
    {
     "name": "stdout",
     "output_type": "stream",
     "text": [
      "[0. 0. 0. 0.]\n",
      "[[1. 1.]\n",
      " [1. 1.]\n",
      " [1. 1.]\n",
      " [1. 1.]]\n",
      "[ 0.   2.5  5.   7.5 10. ]\n"
     ]
    }
   ],
   "source": [
    "a = np.zeros(4) # eindimensionaler Array mit Einsern\n",
    "print(a)\n",
    "b = np.ones((4,2)) # zwei-dimensionaler Array mit Nullen\n",
    "print(b)\n",
    "c = np.linspace(0,10, 5)\n",
    "print(c)"
   ]
  },
  {
   "attachments": {},
   "cell_type": "markdown",
   "metadata": {},
   "source": [
    "### Schleifen und Funktionen"
   ]
  },
  {
   "attachments": {},
   "cell_type": "markdown",
   "metadata": {},
   "source": [
    "Schleifen, z.B. For-Loops werden in Python durch Eindrücken des Codes erzeugt. Ein einfaches Beispiel ist eine Iteration durch einen Array.  Beachten Sie den Doppelpunkt nach der For-Anweisung."
   ]
  },
  {
   "cell_type": "code",
   "execution_count": 13,
   "metadata": {},
   "outputs": [
    {
     "name": "stdout",
     "output_type": "stream",
     "text": [
      "0.0\n",
      "2.5\n",
      "5.0\n",
      "7.5\n",
      "10.0\n",
      "0.0\n",
      "2.5\n",
      "5.0\n",
      "7.5\n",
      "10.0\n"
     ]
    }
   ],
   "source": [
    "for ci in c:\n",
    "    print(ci)\n",
    "\n",
    "# Alternativ: \n",
    "for i, ci in enumerate(c):\n",
    "    print(c[i])"
   ]
  },
  {
   "attachments": {},
   "cell_type": "markdown",
   "metadata": {},
   "source": [
    "Erzeugen eines Datensatzes $x$ und $y = x^2$"
   ]
  },
  {
   "cell_type": "code",
   "execution_count": 14,
   "metadata": {},
   "outputs": [],
   "source": [
    "x0 = np.linspace(0, 2, 101)\n",
    "y0 = np.zeros(101)\n",
    "i = 0\n",
    "for x_i in x0:\n",
    "    y0[i] = x_i**2\n",
    "    i = i + 1\n",
    "\n",
    "# Alternative:\n",
    "x1 = np.linspace(0, 2, 101)\n",
    "y1 = x1**2"
   ]
  },
  {
   "attachments": {},
   "cell_type": "markdown",
   "metadata": {},
   "source": [
    "Alternativ können wir auch eine Funktion definieren, die uns den entsprechenden Datensatz generiert:\n"
   ]
  },
  {
   "cell_type": "code",
   "execution_count": 23,
   "metadata": {},
   "outputs": [
    {
     "name": "stdout",
     "output_type": "stream",
     "text": [
      "[0.0000e+00 4.0000e-04 1.6000e-03 3.6000e-03 6.4000e-03 1.0000e-02\n",
      " 1.4400e-02 1.9600e-02 2.5600e-02 3.2400e-02 4.0000e-02 4.8400e-02\n",
      " 5.7600e-02 6.7600e-02 7.8400e-02 9.0000e-02 1.0240e-01 1.1560e-01\n",
      " 1.2960e-01 1.4440e-01 1.6000e-01 1.7640e-01 1.9360e-01 2.1160e-01\n",
      " 2.3040e-01 2.5000e-01 2.7040e-01 2.9160e-01 3.1360e-01 3.3640e-01\n",
      " 3.6000e-01 3.8440e-01 4.0960e-01 4.3560e-01 4.6240e-01 4.9000e-01\n",
      " 5.1840e-01 5.4760e-01 5.7760e-01 6.0840e-01 6.4000e-01 6.7240e-01\n",
      " 7.0560e-01 7.3960e-01 7.7440e-01 8.1000e-01 8.4640e-01 8.8360e-01\n",
      " 9.2160e-01 9.6040e-01 1.0000e+00 1.0404e+00 1.0816e+00 1.1236e+00\n",
      " 1.1664e+00 1.2100e+00 1.2544e+00 1.2996e+00 1.3456e+00 1.3924e+00\n",
      " 1.4400e+00 1.4884e+00 1.5376e+00 1.5876e+00 1.6384e+00 1.6900e+00\n",
      " 1.7424e+00 1.7956e+00 1.8496e+00 1.9044e+00 1.9600e+00 2.0164e+00\n",
      " 2.0736e+00 2.1316e+00 2.1904e+00 2.2500e+00 2.3104e+00 2.3716e+00\n",
      " 2.4336e+00 2.4964e+00 2.5600e+00 2.6244e+00 2.6896e+00 2.7556e+00\n",
      " 2.8224e+00 2.8900e+00 2.9584e+00 3.0276e+00 3.0976e+00 3.1684e+00\n",
      " 3.2400e+00 3.3124e+00 3.3856e+00 3.4596e+00 3.5344e+00 3.6100e+00\n",
      " 3.6864e+00 3.7636e+00 3.8416e+00 3.9204e+00 4.0000e+00]\n"
     ]
    }
   ],
   "source": [
    "def squarex(input):\n",
    "    \"\"\" Einfache Funktion, die die Eingabewerte quadriert\"\"\"\n",
    "    output = input**2\n",
    "    return output \n",
    "\n",
    "test_y = squarex(x0)\n",
    "print(test_y)"
   ]
  },
  {
   "attachments": {},
   "cell_type": "markdown",
   "metadata": {},
   "source": [
    "### Laden und Speichern von Daten"
   ]
  },
  {
   "attachments": {},
   "cell_type": "markdown",
   "metadata": {},
   "source": [
    "Wir speichern den im vorherigen Unterkapitel generierten Datensatz nun in einem .txt file ab, einmal mit und einmal ohne das Hinzufügen eines Headers. Hiermit werden die Daten in den Arrays x und y in den Textdateien 'DataOut.txt' und 'DataOutHeaded.txt', getrennt durch Kommata, gespeichert. Diese Datei können sie nun mit jedem Texteditor öffnen."
   ]
  },
  {
   "cell_type": "code",
   "execution_count": 16,
   "metadata": {},
   "outputs": [],
   "source": [
    "np.savetxt('DataOut.txt', (x0, y0), delimiter = ',') # ohne Header\n",
    "np.savetxt('DataOutHeaded.txt', (x0, y0), delimiter = ',', header='Beispieldatei Datenanalyse, 2023. Format: x, y') # mit Header"
   ]
  },
  {
   "attachments": {},
   "cell_type": "markdown",
   "metadata": {},
   "source": [
    "Um die Daten wieder zu laden verwenden wir entsprechend"
   ]
  },
  {
   "cell_type": "code",
   "execution_count": 18,
   "metadata": {},
   "outputs": [],
   "source": [
    "(x2, y2) = np.loadtxt('DataOut.txt', delimiter = ',')\n",
    "(x3, y3) = np.loadtxt('DataOutHeaded.txt', delimiter = ',', skiprows =1)"
   ]
  },
  {
   "attachments": {},
   "cell_type": "markdown",
   "metadata": {},
   "source": [
    "Hier haben wir die praktische Fähigkeit von Python verwendet Tupel zuweisen zu können. Alternativ können wir die Daten auch in ein allegmeines Datenarray laden "
   ]
  },
  {
   "cell_type": "code",
   "execution_count": 19,
   "metadata": {},
   "outputs": [
    {
     "name": "stdout",
     "output_type": "stream",
     "text": [
      "(2, 101)\n"
     ]
    }
   ],
   "source": [
    "data = np.loadtxt('DataOut.txt', delimiter = ',')\n",
    "print(data.shape)\n",
    "x4 = data[0, :]\n",
    "y4= data[1, :]"
   ]
  },
  {
   "attachments": {},
   "cell_type": "markdown",
   "metadata": {},
   "source": [
    "### Plotten von Daten"
   ]
  },
  {
   "cell_type": "code",
   "execution_count": 20,
   "metadata": {},
   "outputs": [
    {
     "data": {
      "text/plain": [
       "[<matplotlib.lines.Line2D at 0x202d73dc250>]"
      ]
     },
     "execution_count": 20,
     "metadata": {},
     "output_type": "execute_result"
    },
    {
     "data": {
      "image/png": "[encoded data removed]",
      "text/plain": [
       "<Figure size 640x480 with 1 Axes>"
      ]
     },
     "metadata": {},
     "output_type": "display_data"
    }
   ],
   "source": [
    "plt.plot(x0, y0)"
   ]
  },
  {
   "attachments": {},
   "cell_type": "markdown",
   "metadata": {},
   "source": [
    "Das ist der einfachste Plot, und geeignet die Daten zu visualisieren. So ein Plot ist jedoch nicht ausreichend für Praktikumsberichte, Publikationen oder Präsentationen.\n",
    "Was fehlt?"
   ]
  },
  {
   "cell_type": "code",
   "execution_count": 21,
   "metadata": {},
   "outputs": [
    {
     "data": {
      "image/png": "[encoded data removed]",
      "text/plain": [
       "<Figure size 787.402x669.292 with 1 Axes>"
      ]
     },
     "metadata": {},
     "output_type": "display_data"
    }
   ],
   "source": [
    "# Umrechnung von Zoll in cm (1 Zoll = 2.54 cm)\n",
    "cm = 0.393701\n",
    "\n",
    "# Definition von globalen Parametern, hier die Schriftgrösse\n",
    "plt.rcParams.update({'font.size': 16})\n",
    "plt.rcParams.update({'axes.labelsize': 16})\n",
    "\n",
    "# Definition der Figur, mit Grössenangabe\n",
    "fig = plt.figure(figsize=(20*cm, 17*cm))\n",
    "ax1 = fig.add_subplot(1, 1, 1)\n",
    "# Definitiond er zu plottenden Daten mit Label\n",
    "ax1.plot(x0, y0, 'bo', label='Data')\n",
    "ax1.plot(x0, y0, 'r-', label=r'$y = x^2$')\n",
    "# Achsenbeschriftung, die Angegebene Schriftgrösse überschrebit die globale Schriftgrösse\n",
    "ax1.set_xlabel('x (x unit)', fontsize=20)\n",
    "ax1.set_ylabel('y (y unit)', fontsize=20)\n",
    "# Definition des Bereichs der geplottet werden soll\n",
    "ax1.set_xlim(0, 2)\n",
    "ax1.set_ylim(0, 4)\n",
    "# Erzeugen einer Legende, hier werden die Label aus der Plotfunktion übernommen\n",
    "ax1.legend(fontsize=20, frameon=False)\n",
    "\n",
    "# Abspeichern der Figur\n",
    "fig.savefig(r'Figur.png', dpi=400, transparent=True)"
   ]
  }
 ],
 "metadata": {
  "kernelspec": {
   "display_name": "base",
   "language": "python",
   "name": "python3"
  },
  "language_info": {
   "codemirror_mode": {
    "name": "ipython",
    "version": 3
   },
   "file_extension": ".py",
   "mimetype": "text/x-python",
   "name": "python",
   "nbconvert_exporter": "python",
   "pygments_lexer": "ipython3",
   "version": "3.9.13"
  },
  "orig_nbformat": 4
 },
 "nbformat": 4,
 "nbformat_minor": 2
}
